{
 "cells": [
  {
   "cell_type": "markdown",
   "metadata": {},
   "source": [
    "# SHOW Simulator Introduction with Orbit Simulation"
   ]
  },
  {
   "cell_type": "code",
   "execution_count": null,
   "metadata": {},
   "outputs": [],
   "source": [
    "%matplotlib inline\n",
    "import os\n",
    "os.environ[\"OPENBLAS_NUM_THREADS\"] = \"1\"\n",
    "\n",
    "from hawcsimulator.ali.configurations.ideal_spectrograph import IdealALISimulator\n",
    "\n",
    "import numpy as np\n",
    "import pandas as pd\n",
    "\n",
    "from pathlib import Path\n",
    "\n",
    "simulator = IdealALISimulator()\n",
    "time = [pd.Timestamp(\"2022-01-01T12:45:00Z\")]\n",
    "\n",
    "input_orbit = {\n",
    "        \"altitude_grid\": np.arange(0, 65001.0, 1000.0),\n",
    "        \"polarization_states\": [\"I\", \"dolp\"],\n",
    "        \"sample_wavelengths\": np.array([470.0, 745.0, 1020.0]),\n",
    "        \"time\": time[0],\n",
    "        \"tle\": 'AOS_Storm_Inclined_v2025-01-29_Epoch2019.tle',\n",
    "        \"boresight_angle_deg\": 0.0,\n",
    "        \"target_tangent_altitude_m\": 30_000.0\n",
    "}\n",
    "\n",
    "results = []\n",
    "for t in time:\n",
    "    input_orbit['time'] = t\n",
    "    data = simulator.run([\"l1b\", \"l2\", \"atmosphere\"], input_orbit, config={\"atmosphere_method\": \"omps_calipso_era5\", \"observation_method\": \"orbit\"})\n",
    "    results.append(data)\n",
    "    \n"
   ]
  },
  {
   "cell_type": "code",
   "execution_count": null,
   "metadata": {},
   "outputs": [],
   "source": [
    "%matplotlib inline\n",
    "import matplotlib\n",
    "matplotlib.use('Agg')\n",
    "import matplotlib.pyplot as plt\n",
    "plt.ion()\n",
    "\n",
    "plt.plot(data[\"atmosphere\"].constituents[\"aerosol\"].extinction_per_m, data[\"atmosphere\"].constituents[\"aerosol\"]._altitudes_m)\n",
    "plt.xlabel(\"Aerosol Extinction [/m]\")\n",
    "plt.ylabel(\"Altitude [m]\")\n",
    "\n",
    "plt.show()"
   ]
  }
 ],
 "metadata": {
  "kernelspec": {
   "display_name": "Python 3 (ipykernel)",
   "language": "python",
   "name": "python3"
  },
  "language_info": {
   "codemirror_mode": {
    "name": "ipython",
    "version": 3
   },
   "file_extension": ".py",
   "mimetype": "text/x-python",
   "name": "python",
   "nbconvert_exporter": "python",
   "pygments_lexer": "ipython3",
   "version": "3.12.9"
  }
 },
 "nbformat": 4,
 "nbformat_minor": 4
}
